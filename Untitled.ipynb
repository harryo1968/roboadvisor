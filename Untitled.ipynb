{
 "cells": [
  {
   "cell_type": "code",
   "execution_count": 9,
   "id": "d81d9a9c-52aa-45de-877a-2846ec79c554",
   "metadata": {},
   "outputs": [
    {
     "name": "stdout",
     "output_type": "stream",
     "text": [
      "88 is not within the range.\n"
     ]
    }
   ],
   "source": [
    "age = 88\n",
    "\n",
    "range_1 = range(0,65)\n",
    "\n",
    "# if age < 65 | age > 0:\n",
    "#     print(\"invalid\")\n",
    "# else:\n",
    "#     print(\"valid\")\n",
    "\n",
    "if age in range_1 :\n",
    "    print(age, 'is within the range.')\n",
    "else :\n",
    "    print(age, 'is not within the range.')\n"
   ]
  },
  {
   "cell_type": "code",
   "execution_count": null,
   "id": "b1fdec87-d6fd-412c-bc98-4e7b035aa2c5",
   "metadata": {},
   "outputs": [],
   "source": []
  }
 ],
 "metadata": {
  "kernelspec": {
   "display_name": "dev",
   "language": "python",
   "name": "dev"
  },
  "language_info": {
   "codemirror_mode": {
    "name": "ipython",
    "version": 3
   },
   "file_extension": ".py",
   "mimetype": "text/x-python",
   "name": "python",
   "nbconvert_exporter": "python",
   "pygments_lexer": "ipython3",
   "version": "3.7.13"
  }
 },
 "nbformat": 4,
 "nbformat_minor": 5
}
